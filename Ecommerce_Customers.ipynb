{
  "nbformat": 4,
  "nbformat_minor": 0,
  "metadata": {
    "colab": {
      "name": "Ecommerce-Customers.ipynb",
      "provenance": [],
      "collapsed_sections": []
    },
    "kernelspec": {
      "name": "python3",
      "display_name": "Python 3"
    }
  },
  "cells": [
    {
      "cell_type": "markdown",
      "metadata": {
        "id": "bc73nQ9J5qE2",
        "colab_type": "text"
      },
      "source": [
        "# Import packages"
      ]
    },
    {
      "cell_type": "code",
      "metadata": {
        "id": "8c6L_kgK5vjJ",
        "colab_type": "code",
        "colab": {}
      },
      "source": [
        "import pandas as pd\n"
      ],
      "execution_count": 115,
      "outputs": []
    },
    {
      "cell_type": "markdown",
      "metadata": {
        "id": "zzETIm9m5-uJ",
        "colab_type": "text"
      },
      "source": [
        "# Reading the data set"
      ]
    },
    {
      "cell_type": "code",
      "metadata": {
        "id": "vnnQCjIH6Pa0",
        "colab_type": "code",
        "colab": {}
      },
      "source": [
        "ecommerce=pd.read_csv(\"https://raw.githubusercontent.com/harshdesai7/Ecommerce-Customers/master/Ecommerce%20Customers.csv\")"
      ],
      "execution_count": 116,
      "outputs": []
    },
    {
      "cell_type": "code",
      "metadata": {
        "id": "Ee8fd83v6aDg",
        "colab_type": "code",
        "colab": {}
      },
      "source": [
        "ecommerce"
      ],
      "execution_count": null,
      "outputs": []
    },
    {
      "cell_type": "markdown",
      "metadata": {
        "id": "H7Xq9HzD7UyX",
        "colab_type": "text"
      },
      "source": [
        "# Exploratory Data Analysis (EDA)"
      ]
    },
    {
      "cell_type": "code",
      "metadata": {
        "id": "aKl4SLkH7YKn",
        "colab_type": "code",
        "colab": {}
      },
      "source": [
        "ecommerce.head().transpose()"
      ],
      "execution_count": null,
      "outputs": []
    },
    {
      "cell_type": "code",
      "metadata": {
        "id": "kiZACFSb7dYk",
        "colab_type": "code",
        "colab": {}
      },
      "source": [
        "ecommerce.columns"
      ],
      "execution_count": null,
      "outputs": []
    },
    {
      "cell_type": "code",
      "metadata": {
        "id": "veBu7AVE7gNL",
        "colab_type": "code",
        "colab": {}
      },
      "source": [
        "# We dont need the name address and avatar in analysis since they are independent of analysis\n",
        "ecommerce=ecommerce.iloc[:,3:]"
      ],
      "execution_count": null,
      "outputs": []
    },
    {
      "cell_type": "code",
      "metadata": {
        "id": "ie4XKrXb7vBP",
        "colab_type": "code",
        "colab": {}
      },
      "source": [
        "ecommerce"
      ],
      "execution_count": null,
      "outputs": []
    },
    {
      "cell_type": "code",
      "metadata": {
        "id": "I0kR-j677weR",
        "colab_type": "code",
        "colab": {}
      },
      "source": [
        "# Identifiers of columns or attributes of the data are incompatible for some advanced analysis like statsmodels \n",
        "\n",
        "ecommerce=ecommerce.rename(columns={'Avg. Session Length':'Avg_Session_Length','Time on App':'Time_on_App','Time on Website':'Time_on_Website','Length of Membership':'Length_of_Membership','Yearly Amount Spent':'Yearly_Amount_Spent'})\n",
        "ecommerce.columns"
      ],
      "execution_count": null,
      "outputs": []
    },
    {
      "cell_type": "code",
      "metadata": {
        "id": "dHdhYEGp8hUQ",
        "colab_type": "code",
        "colab": {}
      },
      "source": [
        "ecommerce.head(n=10)"
      ],
      "execution_count": null,
      "outputs": []
    },
    {
      "cell_type": "markdown",
      "metadata": {
        "id": "ru6YWDnr9ocr",
        "colab_type": "text"
      },
      "source": [
        "# Analysis before building a model\n",
        " Before building a linear regression model we need to find the target column \n",
        "and independent variabes(columns).\n",
        "\n",
        "---\n",
        "here the task is to predict the Yearly_Amount_Spent by customer based on his feature vector ('Avg_Session_Length,Time_on_App,Time_on_Website,Length_of_Membership)\n",
        "\n",
        "\n",
        "\n",
        "\n"
      ]
    },
    {
      "cell_type": "code",
      "metadata": {
        "id": "-VsSFEMS_WM2",
        "colab_type": "code",
        "colab": {}
      },
      "source": [
        "# Linear Regression Model Assumption is the Independent variable vector or Feature Vector has a property that each variable in feature vector is independent from other features\n",
        "\n",
        "# hence we need to find whether there is any correlation between the variables of feature vector\n",
        "\n",
        "# for that we need to calculate the Coefficent of Correlation between each pair of attributes .\n",
        "\n",
        "# there are 5 Attributes, each attribute can have 4 other combinations so total we have  5*4=20 combinations\n",
        "\n",
        "# for each combination we need to calculate coefficient of correlation (R)\n",
        "\n",
        "from scipy.stats import pearsonr\n",
        "for x in ecommerce.columns:\n",
        "  for y in ecommerce.columns:\n",
        "    if x!= y:\n",
        "      print(\"Coefficient of Correlation R(\"+x+\",\"+y+\")  is:    \"+str(pearsonr(ecommerce[x],ecommerce[y])[0])+\"\\n\")"
      ],
      "execution_count": null,
      "outputs": []
    },
    {
      "cell_type": "markdown",
      "metadata": {
        "id": "hnxJU9nbHjoZ",
        "colab_type": "text"
      },
      "source": [
        "# Diagramatical representation of data using data visualising\n"
      ]
    },
    {
      "cell_type": "code",
      "metadata": {
        "id": "YAzb996UHuhs",
        "colab_type": "code",
        "colab": {}
      },
      "source": [
        "import seaborn as sns\n",
        "sns.pairplot(ecommerce,diag_kind='kde')\n",
        "\n",
        "# by the plot we can understand that the relationship between Length_of_Membership and Yearly_Amount_Spent is high\n",
        "\n",
        "# we have the dataset with all attributes of approximately symmetrical normal distributions"
      ],
      "execution_count": null,
      "outputs": []
    },
    {
      "cell_type": "code",
      "metadata": {
        "id": "2oNI7x36InMZ",
        "colab_type": "code",
        "colab": {}
      },
      "source": [
        "# heat map\n",
        "sns.heatmap(ecommerce.corr(),cmap='Blues',annot=True)\n",
        "\n",
        "# from the heat map also we can understand the relation ship between attributes"
      ],
      "execution_count": null,
      "outputs": []
    },
    {
      "cell_type": "code",
      "metadata": {
        "id": "SwDMA8xRBgT2",
        "colab_type": "code",
        "colab": {}
      },
      "source": [
        "# if the coefficient of correlation of (x,y) is approximately equal to 0 then those 2 features are independent\n",
        "\n",
        "# if the coefficient of correlation of (x,y) is greater than 0.2 then those two have a relationship\n",
        "notrelated=[]\n",
        "related=[]\n",
        "for x in ecommerce.columns:\n",
        "  for y in ecommerce.columns:\n",
        "    if x!=y:\n",
        "      if pearsonr(ecommerce[x],ecommerce[y])[0] <= 0.2:\n",
        "        notrelated.append((x,y))\n",
        "      else:\n",
        "        related.append((x,y))\n",
        "print(\"Not Related pairs:\")\n",
        "for x in notrelated:\n",
        "   print(x)\n",
        "print(\"\\n\\nRelated pairs:\")\n",
        "for x in related:\n",
        "  print(x)"
      ],
      "execution_count": null,
      "outputs": []
    },
    {
      "cell_type": "code",
      "metadata": {
        "id": "-Zc9c4j8-KCy",
        "colab_type": "code",
        "colab": {}
      },
      "source": [
        "# feature vector is that in which the varibales are strongly related with \"Year_Amount_Spent\"\n",
        "\n",
        "# By the above analysis we can conclude that our feature vector is (Avg_Session_Length,Time_on_App,Length_of_Membership)\n",
        "\n",
        "# Feature vector = Independent variable vector = 'X'\n",
        "\n",
        "X=ecommerce[['Avg_Session_Length','Time_on_App','Length_of_Membership']]\n",
        "print(X)\n",
        "\n",
        "# Dependent Variable 'Y'\n",
        "Y=ecommerce[['Yearly_Amount_Spent']]\n",
        "print(Y)"
      ],
      "execution_count": null,
      "outputs": []
    },
    {
      "cell_type": "markdown",
      "metadata": {
        "id": "s8KgSozkG5Lv",
        "colab_type": "text"
      },
      "source": [
        "# Linear Regression\n",
        "\n",
        "\n",
        "1.   Split the data set into train and test\n",
        "2.   Fit the linear regression model on training set\n",
        "3.   Predict the test data\n",
        "4.   Analysis of the model\n",
        "\n"
      ]
    },
    {
      "cell_type": "code",
      "metadata": {
        "id": "x87crWEQHQcc",
        "colab_type": "code",
        "colab": {}
      },
      "source": [
        "from sklearn.model_selection import train_test_split\n",
        "\n",
        "X_train,X_test,Y_train,Y_test=train_test_split(X,Y,test_size=0.25)"
      ],
      "execution_count": null,
      "outputs": []
    },
    {
      "cell_type": "code",
      "metadata": {
        "id": "_MgGAhVnHZoB",
        "colab_type": "code",
        "colab": {}
      },
      "source": [
        "from sklearn.linear_model import LinearRegression\n",
        "lr=LinearRegression()\n",
        "lr.fit(X_train,Y_train)\n",
        "\n",
        "# Linear Regression best fit line will be returned i.e the coefficientf of a line will be returned \n",
        "# The line is Y=m1*Avg_Session_Length + m2*Time_on_App + m3*Length_of_Membership + intercept\n",
        "\n",
        "# (m1,m2,m3) are coefficients and one intercept"
      ],
      "execution_count": null,
      "outputs": []
    },
    {
      "cell_type": "code",
      "metadata": {
        "id": "rhgaczrZJ7vE",
        "colab_type": "code",
        "colab": {}
      },
      "source": [
        "print(\"Coefficients:\"+str(list(lr.coef_)))\n",
        "print(\"Intercept:\"+str(lr.intercept_))"
      ],
      "execution_count": null,
      "outputs": []
    },
    {
      "cell_type": "code",
      "metadata": {
        "id": "ZH06hCuvKQOw",
        "colab_type": "code",
        "colab": {}
      },
      "source": [
        "predict=lr.predict(X_test)"
      ],
      "execution_count": null,
      "outputs": []
    },
    {
      "cell_type": "code",
      "metadata": {
        "id": "17KDmnKvLeTS",
        "colab_type": "code",
        "colab": {}
      },
      "source": [
        "from matplotlib import pyplot as plt\n",
        "plt.scatter(Y_test,predict)\n",
        "plt.xlabel('Y_test')\n",
        "plt.ylabel('predict')"
      ],
      "execution_count": null,
      "outputs": []
    },
    {
      "cell_type": "code",
      "metadata": {
        "id": "SHf4NDH0O7ut",
        "colab_type": "code",
        "colab": {}
      },
      "source": [
        "from sklearn import metrics\n",
        "print(\"Mean squared Error:\"+str(metrics.mean_squared_error(predict,Y_test)))"
      ],
      "execution_count": null,
      "outputs": []
    },
    {
      "cell_type": "code",
      "metadata": {
        "id": "NFFkToeRP_NT",
        "colab_type": "code",
        "colab": {}
      },
      "source": [
        "print(\"Performance:\",metrics.r2_score(Y_test,predict)*100)"
      ],
      "execution_count": null,
      "outputs": []
    },
    {
      "cell_type": "markdown",
      "metadata": {
        "id": "o_NMxwVgQz2L",
        "colab_type": "text"
      },
      "source": [
        "# Analysis using stats model"
      ]
    },
    {
      "cell_type": "code",
      "metadata": {
        "id": "HpCLr7tkQ5za",
        "colab_type": "code",
        "colab": {}
      },
      "source": [
        "import statsmodels.formula.api as smf"
      ],
      "execution_count": null,
      "outputs": []
    },
    {
      "cell_type": "code",
      "metadata": {
        "id": "G2hWDMnKQ_TI",
        "colab_type": "code",
        "colab": {}
      },
      "source": [
        "ecommerce=pd.concat([X_train,Y_train],axis=1)\n",
        "lm=smf.ols(formula='Yearly_Amount_Spent ~ Avg_Session_Length + Time_on_App + Length_of_Membership',data=ecommerce)"
      ],
      "execution_count": null,
      "outputs": []
    },
    {
      "cell_type": "code",
      "metadata": {
        "id": "sT4DCKCSRnH9",
        "colab_type": "code",
        "colab": {}
      },
      "source": [
        "lmodel=lm.fit()"
      ],
      "execution_count": null,
      "outputs": []
    },
    {
      "cell_type": "code",
      "metadata": {
        "id": "-wtWGEvrR4fd",
        "colab_type": "code",
        "colab": {}
      },
      "source": [
        "lmodel.params"
      ],
      "execution_count": null,
      "outputs": []
    },
    {
      "cell_type": "code",
      "metadata": {
        "id": "Y2hJi_IPR7Lu",
        "colab_type": "code",
        "colab": {}
      },
      "source": [
        "print(lmodel.summary())"
      ],
      "execution_count": null,
      "outputs": []
    },
    {
      "cell_type": "markdown",
      "metadata": {
        "id": "GxhFzMwiSKrS",
        "colab_type": "text"
      },
      "source": [
        "\"std err\" is the standard deviation of the distribution curve of all possible feature (Ex: look at Avg_Session_Length ,while modelling we get lots of possible values for Avg_Session_Length, \"std err\" represents the standard deviation of the distribution of all possible values of Avg_Session_Length)\n",
        "\n",
        "\"t\" represents the same as z-score that is the difference between best coefficient to the central value of the distribution of all possible values of a column\n",
        "\n",
        "\"p_score\" is used to find whether there is any statistical fluke or not (Ex: p_score determines the probability of relationship between the variable and the target in the population where there is no relation between the variable and target)\n",
        "\n",
        "we got \"p_value\" for Time_on_Website as 0.773 so that we may conclude that this attribute might be fluked or in another modelling this may give less powered model.\n"
      ]
    },
    {
      "cell_type": "code",
      "metadata": {
        "id": "V6D-HqxHSMwl",
        "colab_type": "code",
        "colab": {}
      },
      "source": [
        ""
      ],
      "execution_count": null,
      "outputs": []
    }
  ]
}